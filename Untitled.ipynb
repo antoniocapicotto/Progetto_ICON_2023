{
 "cells": [
  {
   "cell_type": "code",
   "execution_count": null,
   "id": "b529b589",
   "metadata": {},
   "outputs": [],
   "source": [
    "# pulizia dei dati\n",
    "import pandas as pd\n"
   ]
  }
 ],
 "metadata": {
  "kernelspec": {
   "display_name": "Python 3",
   "language": "python",
   "name": "python3"
  },
  "language_info": {
   "name": "python",
   "version": "3.11.3"
  }
 },
 "nbformat": 4,
 "nbformat_minor": 5
}
